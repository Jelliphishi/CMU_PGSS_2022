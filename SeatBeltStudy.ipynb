{
  "nbformat": 4,
  "nbformat_minor": 0,
  "metadata": {
    "colab": {
      "name": "SeatBeltStudy.ipynb",
      "provenance": []
    },
    "kernelspec": {
      "name": "python3",
      "display_name": "Python 3"
    },
    "language_info": {
      "name": "python"
    }
  },
  "cells": [
    {
      "cell_type": "markdown",
      "source": [
        "#Displaying British Seatbelt Study"
      ],
      "metadata": {
        "id": "eoB_g-uzGr4a"
      }
    },
    {
      "cell_type": "markdown",
      "source": [
        "##Importing the Study"
      ],
      "metadata": {
        "id": "wei4BxDLGxJ2"
      }
    },
    {
      "cell_type": "code",
      "execution_count": 51,
      "metadata": {
        "colab": {
          "base_uri": "https://localhost:8080/"
        },
        "id": "fiNzeekTGW_N",
        "outputId": "ec213105-14de-4083-c4cb-1b4f146cbfd6"
      },
      "outputs": [
        {
          "output_type": "stream",
          "name": "stdout",
          "text": [
            "Drive already mounted at /gdrive; to attempt to forcibly remount, call drive.mount(\"/gdrive\", force_remount=True).\n"
          ]
        }
      ],
      "source": [
        "from google.colab import drive\n",
        "drive.mount('/gdrive')"
      ]
    },
    {
      "cell_type": "code",
      "source": [
        "import pandas as pd\n",
        "df = pd.read_csv (\"/gdrive/MyDrive/PGSS_CS_LAB/L2/britishSeatBeltStudy.csv\")\n",
        "df.columns = [\"drivers_killed\", \"drivers\", \"front\", \"rear\", \"kms\", \"petrol_price\", \"van_killed\", \"law\", \"date\"]\n",
        "df = df.iloc[1:,:]\n",
        "df['fraction_of_deaths'] = df['drivers_killed']/df['drivers']\n",
        "df['fraction_of_front'] = df['front']/df['drivers']\n",
        "df['fraction_of_rear'] = df['rear']/df['drivers']\n",
        "df['fraction_of_vans'] = df['van_killed']/df['drivers']\n",
        "df.groupby('law').agg({'drivers_killed': ['min', 'max', 'mean', 'std'], 'drivers': ['min', 'max', 'mean', 'std'], 'fraction_of_deaths': ['min', 'max', 'mean', 'std'], 'fraction_of_front': ['min', 'max', 'mean', 'std'], \n",
        "                             'fraction_of_vans': ['min', 'max', 'mean', 'std']})\n"
      ],
      "metadata": {
        "colab": {
          "base_uri": "https://localhost:8080/",
          "height": 175
        },
        "id": "6CEYib-uG7V-",
        "outputId": "1badc33a-d3b1-4543-9fc9-0dff1b4e3def"
      },
      "execution_count": 52,
      "outputs": [
        {
          "output_type": "execute_result",
          "data": {
            "text/plain": [
              "    drivers_killed                             drivers                     \\\n",
              "               min  max        mean        std     min   max         mean   \n",
              "law                                                                         \n",
              "0               79  198  125.982143  24.289293    1309  2654  1717.934524   \n",
              "1               60  154  100.260870  22.228600    1057  1763  1321.695652   \n",
              "\n",
              "                fraction_of_deaths                                \\\n",
              "            std                min       max      mean       std   \n",
              "law                                                                \n",
              "0    267.679206           0.056388  0.091135  0.073199  0.006946   \n",
              "1    199.723317           0.051107  0.089877  0.075482  0.008975   \n",
              "\n",
              "    fraction_of_front                               fraction_of_vans  \\\n",
              "                  min       max      mean       std              min   \n",
              "law                                                                    \n",
              "0            0.404711  0.669325  0.509892  0.058570         0.001001   \n",
              "1            0.349966  0.539947  0.434939  0.050068         0.001642   \n",
              "\n",
              "                                   \n",
              "          max      mean       std  \n",
              "law                                \n",
              "0    0.011799  0.005583  0.001925  \n",
              "1    0.007024  0.003968  0.001491  "
            ],
            "text/html": [
              "\n",
              "  <div id=\"df-b9cc685a-df12-4a3a-ae4d-d316a940afaf\">\n",
              "    <div class=\"colab-df-container\">\n",
              "      <div>\n",
              "<style scoped>\n",
              "    .dataframe tbody tr th:only-of-type {\n",
              "        vertical-align: middle;\n",
              "    }\n",
              "\n",
              "    .dataframe tbody tr th {\n",
              "        vertical-align: top;\n",
              "    }\n",
              "\n",
              "    .dataframe thead tr th {\n",
              "        text-align: left;\n",
              "    }\n",
              "\n",
              "    .dataframe thead tr:last-of-type th {\n",
              "        text-align: right;\n",
              "    }\n",
              "</style>\n",
              "<table border=\"1\" class=\"dataframe\">\n",
              "  <thead>\n",
              "    <tr>\n",
              "      <th></th>\n",
              "      <th colspan=\"4\" halign=\"left\">drivers_killed</th>\n",
              "      <th colspan=\"4\" halign=\"left\">drivers</th>\n",
              "      <th colspan=\"4\" halign=\"left\">fraction_of_deaths</th>\n",
              "      <th colspan=\"4\" halign=\"left\">fraction_of_front</th>\n",
              "      <th colspan=\"4\" halign=\"left\">fraction_of_vans</th>\n",
              "    </tr>\n",
              "    <tr>\n",
              "      <th></th>\n",
              "      <th>min</th>\n",
              "      <th>max</th>\n",
              "      <th>mean</th>\n",
              "      <th>std</th>\n",
              "      <th>min</th>\n",
              "      <th>max</th>\n",
              "      <th>mean</th>\n",
              "      <th>std</th>\n",
              "      <th>min</th>\n",
              "      <th>max</th>\n",
              "      <th>mean</th>\n",
              "      <th>std</th>\n",
              "      <th>min</th>\n",
              "      <th>max</th>\n",
              "      <th>mean</th>\n",
              "      <th>std</th>\n",
              "      <th>min</th>\n",
              "      <th>max</th>\n",
              "      <th>mean</th>\n",
              "      <th>std</th>\n",
              "    </tr>\n",
              "    <tr>\n",
              "      <th>law</th>\n",
              "      <th></th>\n",
              "      <th></th>\n",
              "      <th></th>\n",
              "      <th></th>\n",
              "      <th></th>\n",
              "      <th></th>\n",
              "      <th></th>\n",
              "      <th></th>\n",
              "      <th></th>\n",
              "      <th></th>\n",
              "      <th></th>\n",
              "      <th></th>\n",
              "      <th></th>\n",
              "      <th></th>\n",
              "      <th></th>\n",
              "      <th></th>\n",
              "      <th></th>\n",
              "      <th></th>\n",
              "      <th></th>\n",
              "      <th></th>\n",
              "    </tr>\n",
              "  </thead>\n",
              "  <tbody>\n",
              "    <tr>\n",
              "      <th>0</th>\n",
              "      <td>79</td>\n",
              "      <td>198</td>\n",
              "      <td>125.982143</td>\n",
              "      <td>24.289293</td>\n",
              "      <td>1309</td>\n",
              "      <td>2654</td>\n",
              "      <td>1717.934524</td>\n",
              "      <td>267.679206</td>\n",
              "      <td>0.056388</td>\n",
              "      <td>0.091135</td>\n",
              "      <td>0.073199</td>\n",
              "      <td>0.006946</td>\n",
              "      <td>0.404711</td>\n",
              "      <td>0.669325</td>\n",
              "      <td>0.509892</td>\n",
              "      <td>0.058570</td>\n",
              "      <td>0.001001</td>\n",
              "      <td>0.011799</td>\n",
              "      <td>0.005583</td>\n",
              "      <td>0.001925</td>\n",
              "    </tr>\n",
              "    <tr>\n",
              "      <th>1</th>\n",
              "      <td>60</td>\n",
              "      <td>154</td>\n",
              "      <td>100.260870</td>\n",
              "      <td>22.228600</td>\n",
              "      <td>1057</td>\n",
              "      <td>1763</td>\n",
              "      <td>1321.695652</td>\n",
              "      <td>199.723317</td>\n",
              "      <td>0.051107</td>\n",
              "      <td>0.089877</td>\n",
              "      <td>0.075482</td>\n",
              "      <td>0.008975</td>\n",
              "      <td>0.349966</td>\n",
              "      <td>0.539947</td>\n",
              "      <td>0.434939</td>\n",
              "      <td>0.050068</td>\n",
              "      <td>0.001642</td>\n",
              "      <td>0.007024</td>\n",
              "      <td>0.003968</td>\n",
              "      <td>0.001491</td>\n",
              "    </tr>\n",
              "  </tbody>\n",
              "</table>\n",
              "</div>\n",
              "      <button class=\"colab-df-convert\" onclick=\"convertToInteractive('df-b9cc685a-df12-4a3a-ae4d-d316a940afaf')\"\n",
              "              title=\"Convert this dataframe to an interactive table.\"\n",
              "              style=\"display:none;\">\n",
              "        \n",
              "  <svg xmlns=\"http://www.w3.org/2000/svg\" height=\"24px\"viewBox=\"0 0 24 24\"\n",
              "       width=\"24px\">\n",
              "    <path d=\"M0 0h24v24H0V0z\" fill=\"none\"/>\n",
              "    <path d=\"M18.56 5.44l.94 2.06.94-2.06 2.06-.94-2.06-.94-.94-2.06-.94 2.06-2.06.94zm-11 1L8.5 8.5l.94-2.06 2.06-.94-2.06-.94L8.5 2.5l-.94 2.06-2.06.94zm10 10l.94 2.06.94-2.06 2.06-.94-2.06-.94-.94-2.06-.94 2.06-2.06.94z\"/><path d=\"M17.41 7.96l-1.37-1.37c-.4-.4-.92-.59-1.43-.59-.52 0-1.04.2-1.43.59L10.3 9.45l-7.72 7.72c-.78.78-.78 2.05 0 2.83L4 21.41c.39.39.9.59 1.41.59.51 0 1.02-.2 1.41-.59l7.78-7.78 2.81-2.81c.8-.78.8-2.07 0-2.86zM5.41 20L4 18.59l7.72-7.72 1.47 1.35L5.41 20z\"/>\n",
              "  </svg>\n",
              "      </button>\n",
              "      \n",
              "  <style>\n",
              "    .colab-df-container {\n",
              "      display:flex;\n",
              "      flex-wrap:wrap;\n",
              "      gap: 12px;\n",
              "    }\n",
              "\n",
              "    .colab-df-convert {\n",
              "      background-color: #E8F0FE;\n",
              "      border: none;\n",
              "      border-radius: 50%;\n",
              "      cursor: pointer;\n",
              "      display: none;\n",
              "      fill: #1967D2;\n",
              "      height: 32px;\n",
              "      padding: 0 0 0 0;\n",
              "      width: 32px;\n",
              "    }\n",
              "\n",
              "    .colab-df-convert:hover {\n",
              "      background-color: #E2EBFA;\n",
              "      box-shadow: 0px 1px 2px rgba(60, 64, 67, 0.3), 0px 1px 3px 1px rgba(60, 64, 67, 0.15);\n",
              "      fill: #174EA6;\n",
              "    }\n",
              "\n",
              "    [theme=dark] .colab-df-convert {\n",
              "      background-color: #3B4455;\n",
              "      fill: #D2E3FC;\n",
              "    }\n",
              "\n",
              "    [theme=dark] .colab-df-convert:hover {\n",
              "      background-color: #434B5C;\n",
              "      box-shadow: 0px 1px 3px 1px rgba(0, 0, 0, 0.15);\n",
              "      filter: drop-shadow(0px 1px 2px rgba(0, 0, 0, 0.3));\n",
              "      fill: #FFFFFF;\n",
              "    }\n",
              "  </style>\n",
              "\n",
              "      <script>\n",
              "        const buttonEl =\n",
              "          document.querySelector('#df-b9cc685a-df12-4a3a-ae4d-d316a940afaf button.colab-df-convert');\n",
              "        buttonEl.style.display =\n",
              "          google.colab.kernel.accessAllowed ? 'block' : 'none';\n",
              "\n",
              "        async function convertToInteractive(key) {\n",
              "          const element = document.querySelector('#df-b9cc685a-df12-4a3a-ae4d-d316a940afaf');\n",
              "          const dataTable =\n",
              "            await google.colab.kernel.invokeFunction('convertToInteractive',\n",
              "                                                     [key], {});\n",
              "          if (!dataTable) return;\n",
              "\n",
              "          const docLinkHtml = 'Like what you see? Visit the ' +\n",
              "            '<a target=\"_blank\" href=https://colab.research.google.com/notebooks/data_table.ipynb>data table notebook</a>'\n",
              "            + ' to learn more about interactive tables.';\n",
              "          element.innerHTML = '';\n",
              "          dataTable['output_type'] = 'display_data';\n",
              "          await google.colab.output.renderOutput(dataTable, element);\n",
              "          const docLink = document.createElement('div');\n",
              "          docLink.innerHTML = docLinkHtml;\n",
              "          element.appendChild(docLink);\n",
              "        }\n",
              "      </script>\n",
              "    </div>\n",
              "  </div>\n",
              "  "
            ]
          },
          "metadata": {},
          "execution_count": 52
        }
      ]
    },
    {
      "cell_type": "code",
      "source": [
        "df.boxplot('fraction_of_rear', 'law')"
      ],
      "metadata": {
        "colab": {
          "base_uri": "https://localhost:8080/",
          "height": 373
        },
        "id": "HnZTlhDqO4qr",
        "outputId": "a0f274fb-511e-4621-8df1-573a9d3b66ee"
      },
      "execution_count": 43,
      "outputs": [
        {
          "output_type": "stream",
          "name": "stderr",
          "text": [
            "/usr/local/lib/python3.7/dist-packages/matplotlib/cbook/__init__.py:1376: VisibleDeprecationWarning: Creating an ndarray from ragged nested sequences (which is a list-or-tuple of lists-or-tuples-or ndarrays with different lengths or shapes) is deprecated. If you meant to do this, you must specify 'dtype=object' when creating the ndarray.\n",
            "  X = np.atleast_1d(X.T if isinstance(X, np.ndarray) else np.asarray(X))\n"
          ]
        },
        {
          "output_type": "execute_result",
          "data": {
            "text/plain": [
              "<matplotlib.axes._subplots.AxesSubplot at 0x7f1be49e2f10>"
            ]
          },
          "metadata": {},
          "execution_count": 43
        },
        {
          "output_type": "display_data",
          "data": {
            "text/plain": [
              "<Figure size 432x288 with 1 Axes>"
            ],
            "image/png": "[encoded data removed]"
          },
          "metadata": {
            "needs_background": "light"
          }
        }
      ]
    },
    {
      "cell_type": "code",
      "source": [
        "df = df.iloc[1:,8:11]\n",
        "df.plot()"
      ],
      "metadata": {
        "colab": {
          "base_uri": "https://localhost:8080/",
          "height": 286
        },
        "id": "YEugOwEKHu9V",
        "outputId": "724b000d-18eb-4beb-c025-77061803be5e"
      },
      "execution_count": 53,
      "outputs": [
        {
          "output_type": "execute_result",
          "data": {
            "text/plain": [
              "<matplotlib.axes._subplots.AxesSubplot at 0x7f1be448b950>"
            ]
          },
          "metadata": {},
          "execution_count": 53
        },
        {
          "output_type": "display_data",
          "data": {
            "text/plain": [
              "<Figure size 432x288 with 1 Axes>"
            ],
            "image/png": "[encoded data removed]"
          },
          "metadata": {
            "needs_background": "light"
          }
        }
      ]
    },
    {
      "cell_type": "code",
      "source": [
        "from sklearn.linear_model import LogisticRegression \n",
        "from sklearn import metrics\n",
        "\n",
        "X=df[['FractionOfDriversKilled', 'kms']]  # Features\n",
        "y=df['law'].astype('category')  # Labels\n",
        "\n",
        "myModel = LogisticRegression()\n",
        "myModel.fit(X,y)\n",
        "\n",
        "y_pred = myModel.predict([[0.1, 100]])[0]\n",
        "y_pred\n"
      ],
      "metadata": {
        "id": "_m-H8tWtgzQ6"
      },
      "execution_count": null,
      "outputs": []
    },
    {
      "cell_type": "code",
      "source": [
        "from sklearn.metrics import classification_report\n",
        "y_pred_proba = myModel.predict_proba(X)[:,1]\n",
        "y_pred = myModel.predict(X)\n",
        "\n",
        "# cr = classification_report(y, y_pred>0.15)\n",
        "cr = classification_report(y, y_pred)\n",
        "print(cr)"
      ],
      "metadata": {
        "id": "HHm8tXyyg7ah"
      },
      "execution_count": null,
      "outputs": []
    }
  ]
}